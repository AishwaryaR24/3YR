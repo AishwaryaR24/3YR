{
 "cells": [
  {
   "cell_type": "code",
   "execution_count": 1,
   "id": "f89aa094",
   "metadata": {},
   "outputs": [],
   "source": [
    "import seaborn as s"
   ]
  },
  {
   "cell_type": "code",
   "execution_count": 2,
   "id": "28a17672",
   "metadata": {},
   "outputs": [],
   "source": [
    "import numpy as  np"
   ]
  },
  {
   "cell_type": "code",
   "execution_count": 3,
   "id": "6dbd6aaf",
   "metadata": {},
   "outputs": [
    {
     "data": {
      "text/plain": [
       "['anagrams',\n",
       " 'anscombe',\n",
       " 'attention',\n",
       " 'brain_networks',\n",
       " 'car_crashes',\n",
       " 'diamonds',\n",
       " 'dots',\n",
       " 'dowjones',\n",
       " 'exercise',\n",
       " 'flights',\n",
       " 'fmri',\n",
       " 'geyser',\n",
       " 'glue',\n",
       " 'healthexp',\n",
       " 'iris',\n",
       " 'mpg',\n",
       " 'penguins',\n",
       " 'planets',\n",
       " 'seaice',\n",
       " 'taxis',\n",
       " 'tips',\n",
       " 'titanic']"
      ]
     },
     "execution_count": 3,
     "metadata": {},
     "output_type": "execute_result"
    }
   ],
   "source": [
    "s.get_dataset_names()"
   ]
  },
  {
   "cell_type": "code",
   "execution_count": 4,
   "id": "a7859115",
   "metadata": {},
   "outputs": [],
   "source": [
    "data=s.load_dataset('tips')"
   ]
  },
  {
   "cell_type": "code",
   "execution_count": 6,
   "id": "a32b4e52",
   "metadata": {},
   "outputs": [],
   "source": [
    "rand=np.random.random(50)"
   ]
  },
  {
   "cell_type": "code",
   "execution_count": 7,
   "id": "9a38a02d",
   "metadata": {},
   "outputs": [
    {
     "data": {
      "text/plain": [
       "array([0.89840341, 0.94203707, 0.35043689, 0.58625966, 0.71389564,\n",
       "       0.78949122, 0.91593167, 0.60684249, 0.75892878, 0.51951657,\n",
       "       0.76971657, 0.68844303, 0.38605668, 0.33680512, 0.21768158,\n",
       "       0.02424214, 0.26033366, 0.88667972, 0.54681308, 0.97144703,\n",
       "       0.56464031, 0.3909522 , 0.98134938, 0.63468686, 0.15446053,\n",
       "       0.25620278, 0.54072817, 0.66946972, 0.32634958, 0.18153651,\n",
       "       0.28720234, 0.47413464, 0.98026377, 0.42220261, 0.52367641,\n",
       "       0.64298182, 0.48467025, 0.13300007, 0.98259189, 0.77433624,\n",
       "       0.82307129, 0.4294455 , 0.19134413, 0.32943254, 0.56890889,\n",
       "       0.91818094, 0.21767925, 0.42031415, 0.60173863, 0.26158734])"
      ]
     },
     "execution_count": 7,
     "metadata": {},
     "output_type": "execute_result"
    }
   ],
   "source": [
    "rand"
   ]
  },
  {
   "cell_type": "code",
   "execution_count": 8,
   "id": "a6e476d5",
   "metadata": {},
   "outputs": [
    {
     "data": {
      "text/plain": [
       "<AxesSubplot:ylabel='Count'>"
      ]
     },
     "execution_count": 8,
     "metadata": {},
     "output_type": "execute_result"
    },
    {
     "data": {
      "image/png": "[encoded data removed]",
      "text/plain": [
       "<Figure size 432x288 with 1 Axes>"
      ]
     },
     "metadata": {
      "needs_background": "light"
     },
     "output_type": "display_data"
    }
   ],
   "source": [
    "s.histplot(rand)"
   ]
  },
  {
   "cell_type": "code",
   "execution_count": null,
   "id": "4357fc6b",
   "metadata": {},
   "outputs": [],
   "source": []
  }
 ],
 "metadata": {
  "kernelspec": {
   "display_name": "Python 3 (ipykernel)",
   "language": "python",
   "name": "python3"
  },
  "language_info": {
   "codemirror_mode": {
    "name": "ipython",
    "version": 3
   },
   "file_extension": ".py",
   "mimetype": "text/x-python",
   "name": "python",
   "nbconvert_exporter": "python",
   "pygments_lexer": "ipython3",
   "version": "3.9.7"
  }
 },
 "nbformat": 4,
 "nbformat_minor": 5
}
